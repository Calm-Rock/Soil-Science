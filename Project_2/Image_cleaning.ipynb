{
 "cells": [
  {
   "cell_type": "markdown",
   "metadata": {},
   "source": [
    "### Importing Libraries"
   ]
  },
  {
   "cell_type": "code",
   "execution_count": null,
   "metadata": {},
   "outputs": [],
   "source": [
    "import cv2\n",
    "import numpy as np\n",
    "import os\n",
    "import pandas as pd"
   ]
  },
  {
   "cell_type": "markdown",
   "metadata": {},
   "source": [
    "### Defining the paths"
   ]
  },
  {
   "cell_type": "code",
   "execution_count": null,
   "metadata": {},
   "outputs": [],
   "source": [
    "# Paths to the folders created for storing the interediate images\n",
    "main_path='G:\\\\Projects\\\\soil_spectrogram\\\\sampleimages'\n",
    "grey_path='G:\\\\Projects\\\\soil_spectrogram\\\\grey_img'\n",
    "binary_path='G:\\\\Projects\\\\soil_spectrogram\\\\binary_img'\n",
    "csv_path='G:\\\\Projects\\\\soil_spectrogram\\\\csv'\n",
    "binary_uncrp='G:\\\\Projects\\\\soil_spectrogram\\\\binary_uncrp_img'"
   ]
  },
  {
   "cell_type": "markdown",
   "metadata": {},
   "source": [
    "### Defining functions"
   ]
  },
  {
   "cell_type": "code",
   "execution_count": null,
   "metadata": {},
   "outputs": [],
   "source": [
    "# Finding the upper bound of the spectrum\n",
    "def upper_x(img):\n",
    "    for i in range(img.shape[0]):\n",
    "        summ=np.sum(img[i,:])\n",
    "        if(summ>255*8):\n",
    "            break\n",
    "    return i\n",
    "# Finding the lower bound of the spectrum\n",
    "def lower_x(img):\n",
    "    for i in range(img.shape[0]):\n",
    "        summ=np.sum(img[img.shape[0] - i-1 :])\n",
    "        if(summ>255*8):\n",
    "            break\n",
    "    return i"
   ]
  },
  {
   "cell_type": "code",
   "execution_count": null,
   "metadata": {},
   "outputs": [],
   "source": [
    "final_ts=[]    \n",
    "for image_path in sorted(os.listdir(main_path)):\n",
    "    path=main_path+ '\\\\' + image_path\n",
    "    print(path)    \n",
    "    img=cv2.imread(path)\n",
    "    print(img.shape)\n",
    "    #Cropping values found out manually\n",
    "    crp_img=img[500:800,445:1360] \n",
    "    gray = cv2.cvtColor(crp_img, cv2.COLOR_BGR2GRAY)\n",
    "    #Converting to binary\n",
    "    ret,thresh_img = cv2.threshold(gray,10,255,cv2.THRESH_BINARY)\n",
    "    #Saving to a binary images folder\n",
    "    cv2.imwrite(binary_uncrp+'\\\\'+image_path, thresh_img) \n",
    "    x_upper_lim=upper_x(thresh_img)\n",
    "    x_lower_lim=lower_x(thresh_img)\n",
    "    \n",
    "    fin_image=gray[x_upper_lim - 5 : gray.shape[0] - x_lower_lim + 5 , :]\n",
    "    #Flipped the images since the spectrum was needed from Red to blue\n",
    "    fin_image=np.fliplr(fin_image)\n",
    "    reta,thres_img = cv2.threshold(fin_image,10,255,cv2.THRESH_BINARY)\n",
    "    cv2.imwrite(grey_path+'\\\\'+image_path, fin_image)\n",
    "    cv2.imwrite(binary_path+'\\\\'+image_path, thres_img)\n",
    "    values=[]\n",
    "    for i in range(fin_image.shape[1]):\n",
    "        # Averaging out the image pixels column wise to get the the intensity values at each x co-ordinate\n",
    "        avg=np.mean(fin_image[:,i])\n",
    "        values.append(avg)\n",
    "    # 915 is the number of pixels in x direction\n",
    "    fvalues=np.reshape(np.array(values),(915,1))\n",
    "    transposed_values=fvalues.transpose()\n",
    "    final_ts.append(transposed_values)\n",
    "    index=np.reshape(np.arange(0,915,1),(915,1))\n",
    "    wavelength=np.reshape(np.arange(400, 1086.25, 0.75),(915,1))\n",
    "    vals=np.concatenate((index,wavelength, fvalues), axis=1)\n",
    "    fin_data=pd.DataFrame(data=vals, columns=['INDEX','LAMBDA','INTENSITY'])\n",
    "    csv_paths=image_path.replace('jpg','csv')\n",
    "    fin_data.to_csv(csv_path+'\\\\'+csv_paths, index=False)"
   ]
  },
  {
   "cell_type": "code",
   "execution_count": null,
   "metadata": {},
   "outputs": [],
   "source": [
    "final_ts=np.concatenate(final_ts)"
   ]
  },
  {
   "cell_type": "markdown",
   "metadata": {},
   "source": [
    "### A view of what the code is doing"
   ]
  },
  {
   "cell_type": "markdown",
   "metadata": {},
   "source": [
    "![alt text](https://i.imgur.com/0tLUngi.gif \"Visualization\")"
   ]
  },
  {
   "cell_type": "code",
   "execution_count": null,
   "metadata": {},
   "outputs": [],
   "source": []
  }
 ],
 "metadata": {
  "kernelspec": {
   "display_name": "Python 3",
   "language": "python",
   "name": "python3"
  },
  "language_info": {
   "codemirror_mode": {
    "name": "ipython",
    "version": 3
   },
   "file_extension": ".py",
   "mimetype": "text/x-python",
   "name": "python",
   "nbconvert_exporter": "python",
   "pygments_lexer": "ipython3",
   "version": "3.6.4"
  }
 },
 "nbformat": 4,
 "nbformat_minor": 2
}
